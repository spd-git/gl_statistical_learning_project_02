{
 "cells": [
  {
   "cell_type": "markdown",
   "metadata": {},
   "source": [
    "<p>Dear Participant,</p>\n",
    "<p>Please find below the Project for Statistical Learning course. This is an individual assignment. Kindly submit it before it's deadline.</p>\n",
    "<p>The Titan Insurance Company has just installed a new incentive payment scheme for its lift policy sales force. It wants to have an early view of the success or failure of the new scheme. Indications are that the sales force is selling more policies, but sales always vary in an unpredictable pattern from month to month and it is not clear that the scheme has made a significant difference.</p>\n",
    "<p>Life Insurance companies typically measure the monthly output of a salesperson as the total sum assured for the policies sold by that person during the month. For example, suppose salesperson X has, in the month, sold seven policies for which the sums assured are £1000, £2500, £3000, £5000, £10000, £35000. X's output for the month is the total of these sums assured, £61,500. Titan's new scheme is that the sales force receives low regular salaries but are paid large bonuses related to their output (i.e. to the total sum assured of policies sold by them). The scheme is expensive for the company, but they are looking for sales increases which more than compensate. The agreement with the sales force is that if the scheme does not at least break even for the company, it will be abandoned after six months.</p>\n",
    "<p>The scheme has now been in operation for four months. It has settled down after fluctuations in the first two months due to the changeover.</p>\n",
    "<p>To test the effectiveness of the scheme, Titan have taken a random sample of 30 salespeople measured their output in the penultimate month prior to changeover and then measured it in the fourth month after the changeover (they have deliberately chosen months not too close to the changeover). The outputs of the salespeople are shown in Table 1</p>"
   ]
  },
  {
   "cell_type": "markdown",
   "metadata": {},
   "source": [
    "<table border=\"1\" width=\"311\">\n",
    "<tbody>\n",
    "<tr>\n",
    "<td width=\"98\">\n",
    "<p>SALESPERSON</p>\n",
    "</td>\n",
    "<td width=\"107\">\n",
    "<p>Old Scheme (in thousands)</p>\n",
    "</td>\n",
    "<td width=\"106\">\n",
    "<p>New Scheme (in thousands)</p>\n",
    "</td>\n",
    "</tr>\n",
    "<tr>\n",
    "<td width=\"98\">\n",
    "<p>1</p>\n",
    "</td>\n",
    "<td width=\"107\">\n",
    "<p>57</p>\n",
    "</td>\n",
    "<td width=\"106\">\n",
    "<p>62</p>\n",
    "</td>\n",
    "</tr>\n",
    "<tr>\n",
    "<td width=\"98\">\n",
    "<p>2</p>\n",
    "</td>\n",
    "<td width=\"107\">\n",
    "<p>103</p>\n",
    "</td>\n",
    "<td width=\"106\">\n",
    "<p>122</p>\n",
    "</td>\n",
    "</tr>\n",
    "<tr>\n",
    "<td width=\"98\">\n",
    "<p>3</p>\n",
    "</td>\n",
    "<td width=\"107\">\n",
    "<p>59</p>\n",
    "</td>\n",
    "<td width=\"106\">\n",
    "<p>54</p>\n",
    "</td>\n",
    "</tr>\n",
    "<tr>\n",
    "<td width=\"98\">\n",
    "<p>4</p>\n",
    "</td>\n",
    "<td width=\"107\">\n",
    "<p>75</p>\n",
    "</td>\n",
    "<td width=\"106\">\n",
    "<p>82</p>\n",
    "</td>\n",
    "</tr>\n",
    "<tr>\n",
    "<td width=\"98\">\n",
    "<p>5</p>\n",
    "</td>\n",
    "<td width=\"107\">\n",
    "<p>84</p>\n",
    "</td>\n",
    "<td width=\"106\">\n",
    "<p>84</p>\n",
    "</td>\n",
    "</tr>\n",
    "<tr>\n",
    "<td width=\"98\">\n",
    "<p>6</p>\n",
    "</td>\n",
    "<td width=\"107\">\n",
    "<p>73</p>\n",
    "</td>\n",
    "<td width=\"106\">\n",
    "<p>86</p>\n",
    "</td>\n",
    "</tr>\n",
    "<tr>\n",
    "<td width=\"98\">\n",
    "<p>7</p>\n",
    "</td>\n",
    "<td width=\"107\">\n",
    "<p>35</p>\n",
    "</td>\n",
    "<td width=\"106\">\n",
    "<p>32</p>\n",
    "</td>\n",
    "</tr>\n",
    "<tr>\n",
    "<td width=\"98\">\n",
    "<p>8</p>\n",
    "</td>\n",
    "<td width=\"107\">\n",
    "<p>110</p>\n",
    "</td>\n",
    "<td width=\"106\">\n",
    "<p>104</p>\n",
    "</td>\n",
    "</tr>\n",
    "<tr>\n",
    "<td width=\"98\">\n",
    "<p>9</p>\n",
    "</td>\n",
    "<td width=\"107\">\n",
    "<p>44</p>\n",
    "</td>\n",
    "<td width=\"106\">\n",
    "<p>38</p>\n",
    "</td>\n",
    "</tr>\n",
    "<tr>\n",
    "<td width=\"98\">\n",
    "<p>10</p>\n",
    "</td>\n",
    "<td width=\"107\">\n",
    "<p>82</p>\n",
    "</td>\n",
    "<td width=\"106\">\n",
    "<p>107</p>\n",
    "</td>\n",
    "</tr>\n",
    "<tr>\n",
    "<td width=\"98\">\n",
    "<p>11</p>\n",
    "</td>\n",
    "<td width=\"107\">\n",
    "<p>67</p>\n",
    "</td>\n",
    "<td width=\"106\">\n",
    "<p>84</p>\n",
    "</td>\n",
    "</tr>\n",
    "<tr>\n",
    "<td width=\"98\">\n",
    "<p>12</p>\n",
    "</td>\n",
    "<td width=\"107\">\n",
    "<p>64</p>\n",
    "</td>\n",
    "<td width=\"106\">\n",
    "<p>85</p>\n",
    "</td>\n",
    "</tr>\n",
    "<tr>\n",
    "<td width=\"98\">\n",
    "<p>13</p>\n",
    "</td>\n",
    "<td width=\"107\">\n",
    "<p>78</p>\n",
    "</td>\n",
    "<td width=\"106\">\n",
    "<p>99</p>\n",
    "</td>\n",
    "</tr>\n",
    "<tr>\n",
    "<td width=\"98\">\n",
    "<p>14</p>\n",
    "</td>\n",
    "<td width=\"107\">\n",
    "<p>53</p>\n",
    "</td>\n",
    "<td width=\"106\">\n",
    "<p>39</p>\n",
    "</td>\n",
    "</tr>\n",
    "<tr>\n",
    "<td width=\"98\">\n",
    "<p>15</p>\n",
    "</td>\n",
    "<td width=\"107\">\n",
    "<p>41</p>\n",
    "</td>\n",
    "<td width=\"106\">\n",
    "<p>34</p>\n",
    "</td>\n",
    "</tr>\n",
    "<tr>\n",
    "<td width=\"98\">\n",
    "<p>16</p>\n",
    "</td>\n",
    "<td width=\"107\">\n",
    "<p>39</p>\n",
    "</td>\n",
    "<td width=\"106\">\n",
    "<p>58</p>\n",
    "</td>\n",
    "</tr>\n",
    "<tr>\n",
    "<td width=\"98\">\n",
    "<p>17</p>\n",
    "</td>\n",
    "<td width=\"107\">\n",
    "<p>80</p>\n",
    "</td>\n",
    "<td width=\"106\">\n",
    "<p>73</p>\n",
    "</td>\n",
    "</tr>\n",
    "<tr>\n",
    "<td width=\"98\">\n",
    "<p>18</p>\n",
    "</td>\n",
    "<td width=\"107\">\n",
    "<p>87</p>\n",
    "</td>\n",
    "<td width=\"106\">\n",
    "<p>53</p>\n",
    "</td>\n",
    "</tr>\n",
    "<tr>\n",
    "<td width=\"98\">\n",
    "<p>19</p>\n",
    "</td>\n",
    "<td width=\"107\">\n",
    "<p>73</p>\n",
    "</td>\n",
    "<td width=\"106\">\n",
    "<p>66</p>\n",
    "</td>\n",
    "</tr>\n",
    "<tr>\n",
    "<td width=\"98\">\n",
    "<p>20</p>\n",
    "</td>\n",
    "<td width=\"107\">\n",
    "<p>65</p>\n",
    "</td>\n",
    "<td width=\"106\">\n",
    "<p>78</p>\n",
    "</td>\n",
    "</tr>\n",
    "<tr>\n",
    "<td width=\"98\">\n",
    "<p>21</p>\n",
    "</td>\n",
    "<td width=\"107\">\n",
    "<p>28</p>\n",
    "</td>\n",
    "<td width=\"106\">\n",
    "<p>41</p>\n",
    "</td>\n",
    "</tr>\n",
    "<tr>\n",
    "<td width=\"98\">\n",
    "<p>22</p>\n",
    "</td>\n",
    "<td width=\"107\">\n",
    "<p>62</p>\n",
    "</td>\n",
    "<td width=\"106\">\n",
    "<p>71</p>\n",
    "</td>\n",
    "</tr>\n",
    "<tr>\n",
    "<td width=\"98\">\n",
    "<p>23</p>\n",
    "</td>\n",
    "<td width=\"107\">\n",
    "<p>49</p>\n",
    "</td>\n",
    "<td width=\"106\">\n",
    "<p>38</p>\n",
    "</td>\n",
    "</tr>\n",
    "<tr>\n",
    "<td width=\"98\">\n",
    "<p>24</p>\n",
    "</td>\n",
    "<td width=\"107\">\n",
    "<p>84</p>\n",
    "</td>\n",
    "<td width=\"106\">\n",
    "<p>95</p>\n",
    "</td>\n",
    "</tr>\n",
    "<tr>\n",
    "<td width=\"98\">\n",
    "<p>25</p>\n",
    "</td>\n",
    "<td width=\"107\">\n",
    "<p>63</p>\n",
    "</td>\n",
    "<td width=\"106\">\n",
    "<p>81</p>\n",
    "</td>\n",
    "</tr>\n",
    "<tr>\n",
    "<td width=\"98\">\n",
    "<p>26</p>\n",
    "</td>\n",
    "<td width=\"107\">\n",
    "<p>77</p>\n",
    "</td>\n",
    "<td width=\"106\">\n",
    "<p>58</p>\n",
    "</td>\n",
    "</tr>\n",
    "<tr>\n",
    "<td width=\"98\">\n",
    "<p>27</p>\n",
    "</td>\n",
    "<td width=\"107\">\n",
    "<p>67</p>\n",
    "</td>\n",
    "<td width=\"106\">\n",
    "<p>75</p>\n",
    "</td>\n",
    "</tr>\n",
    "<tr>\n",
    "<td width=\"98\">\n",
    "<p>28</p>\n",
    "</td>\n",
    "<td width=\"107\">\n",
    "<p>101</p>\n",
    "</td>\n",
    "<td width=\"106\">\n",
    "<p>94</p>\n",
    "</td>\n",
    "</tr>\n",
    "<tr>\n",
    "<td width=\"98\">\n",
    "<p>29</p>\n",
    "</td>\n",
    "<td width=\"107\">\n",
    "<p>91</p>\n",
    "</td>\n",
    "<td width=\"106\">\n",
    "<p>100</p>\n",
    "</td>\n",
    "</tr>\n",
    "<tr>\n",
    "<td width=\"98\">\n",
    "<p>30</p>\n",
    "</td>\n",
    "<td width=\"107\">\n",
    "<p>50</p>\n",
    "</td>\n",
    "<td width=\"106\">\n",
    "<p>68</p>\n",
    "</td>\n",
    "</tr>\n",
    "</tbody>\n",
    "</table>"
   ]
  },
  {
   "cell_type": "code",
   "execution_count": 1,
   "metadata": {},
   "outputs": [
    {
     "data": {
      "text/html": [
       "<div>\n",
       "<style scoped>\n",
       "    .dataframe tbody tr th:only-of-type {\n",
       "        vertical-align: middle;\n",
       "    }\n",
       "\n",
       "    .dataframe tbody tr th {\n",
       "        vertical-align: top;\n",
       "    }\n",
       "\n",
       "    .dataframe thead th {\n",
       "        text-align: right;\n",
       "    }\n",
       "</style>\n",
       "<table border=\"1\" class=\"dataframe\">\n",
       "  <thead>\n",
       "    <tr style=\"text-align: right;\">\n",
       "      <th></th>\n",
       "      <th>old_scheme</th>\n",
       "      <th>new_scheme</th>\n",
       "    </tr>\n",
       "    <tr>\n",
       "      <th>salesperson</th>\n",
       "      <th></th>\n",
       "      <th></th>\n",
       "    </tr>\n",
       "  </thead>\n",
       "  <tbody>\n",
       "    <tr>\n",
       "      <th>1</th>\n",
       "      <td>57000</td>\n",
       "      <td>62000</td>\n",
       "    </tr>\n",
       "    <tr>\n",
       "      <th>2</th>\n",
       "      <td>103000</td>\n",
       "      <td>122000</td>\n",
       "    </tr>\n",
       "    <tr>\n",
       "      <th>3</th>\n",
       "      <td>59000</td>\n",
       "      <td>54000</td>\n",
       "    </tr>\n",
       "    <tr>\n",
       "      <th>4</th>\n",
       "      <td>75000</td>\n",
       "      <td>82000</td>\n",
       "    </tr>\n",
       "    <tr>\n",
       "      <th>5</th>\n",
       "      <td>84000</td>\n",
       "      <td>84000</td>\n",
       "    </tr>\n",
       "    <tr>\n",
       "      <th>6</th>\n",
       "      <td>73000</td>\n",
       "      <td>86000</td>\n",
       "    </tr>\n",
       "    <tr>\n",
       "      <th>7</th>\n",
       "      <td>35000</td>\n",
       "      <td>32000</td>\n",
       "    </tr>\n",
       "    <tr>\n",
       "      <th>8</th>\n",
       "      <td>110000</td>\n",
       "      <td>104000</td>\n",
       "    </tr>\n",
       "    <tr>\n",
       "      <th>9</th>\n",
       "      <td>44000</td>\n",
       "      <td>38000</td>\n",
       "    </tr>\n",
       "    <tr>\n",
       "      <th>10</th>\n",
       "      <td>82000</td>\n",
       "      <td>107000</td>\n",
       "    </tr>\n",
       "    <tr>\n",
       "      <th>11</th>\n",
       "      <td>67000</td>\n",
       "      <td>84000</td>\n",
       "    </tr>\n",
       "    <tr>\n",
       "      <th>12</th>\n",
       "      <td>64000</td>\n",
       "      <td>85000</td>\n",
       "    </tr>\n",
       "    <tr>\n",
       "      <th>13</th>\n",
       "      <td>78000</td>\n",
       "      <td>99000</td>\n",
       "    </tr>\n",
       "    <tr>\n",
       "      <th>14</th>\n",
       "      <td>53000</td>\n",
       "      <td>39000</td>\n",
       "    </tr>\n",
       "    <tr>\n",
       "      <th>15</th>\n",
       "      <td>41000</td>\n",
       "      <td>34000</td>\n",
       "    </tr>\n",
       "    <tr>\n",
       "      <th>16</th>\n",
       "      <td>39000</td>\n",
       "      <td>58000</td>\n",
       "    </tr>\n",
       "    <tr>\n",
       "      <th>17</th>\n",
       "      <td>80000</td>\n",
       "      <td>73000</td>\n",
       "    </tr>\n",
       "    <tr>\n",
       "      <th>18</th>\n",
       "      <td>87000</td>\n",
       "      <td>53000</td>\n",
       "    </tr>\n",
       "    <tr>\n",
       "      <th>19</th>\n",
       "      <td>73000</td>\n",
       "      <td>66000</td>\n",
       "    </tr>\n",
       "    <tr>\n",
       "      <th>20</th>\n",
       "      <td>65000</td>\n",
       "      <td>78000</td>\n",
       "    </tr>\n",
       "    <tr>\n",
       "      <th>21</th>\n",
       "      <td>28000</td>\n",
       "      <td>41000</td>\n",
       "    </tr>\n",
       "    <tr>\n",
       "      <th>22</th>\n",
       "      <td>62000</td>\n",
       "      <td>71000</td>\n",
       "    </tr>\n",
       "    <tr>\n",
       "      <th>23</th>\n",
       "      <td>49000</td>\n",
       "      <td>38000</td>\n",
       "    </tr>\n",
       "    <tr>\n",
       "      <th>24</th>\n",
       "      <td>84000</td>\n",
       "      <td>95000</td>\n",
       "    </tr>\n",
       "    <tr>\n",
       "      <th>25</th>\n",
       "      <td>63000</td>\n",
       "      <td>81000</td>\n",
       "    </tr>\n",
       "    <tr>\n",
       "      <th>26</th>\n",
       "      <td>77000</td>\n",
       "      <td>58000</td>\n",
       "    </tr>\n",
       "    <tr>\n",
       "      <th>27</th>\n",
       "      <td>67000</td>\n",
       "      <td>75000</td>\n",
       "    </tr>\n",
       "    <tr>\n",
       "      <th>28</th>\n",
       "      <td>101000</td>\n",
       "      <td>94000</td>\n",
       "    </tr>\n",
       "    <tr>\n",
       "      <th>29</th>\n",
       "      <td>91000</td>\n",
       "      <td>100000</td>\n",
       "    </tr>\n",
       "    <tr>\n",
       "      <th>30</th>\n",
       "      <td>50000</td>\n",
       "      <td>68000</td>\n",
       "    </tr>\n",
       "  </tbody>\n",
       "</table>\n",
       "</div>"
      ],
      "text/plain": [
       "             old_scheme  new_scheme\n",
       "salesperson                        \n",
       "1                 57000       62000\n",
       "2                103000      122000\n",
       "3                 59000       54000\n",
       "4                 75000       82000\n",
       "5                 84000       84000\n",
       "6                 73000       86000\n",
       "7                 35000       32000\n",
       "8                110000      104000\n",
       "9                 44000       38000\n",
       "10                82000      107000\n",
       "11                67000       84000\n",
       "12                64000       85000\n",
       "13                78000       99000\n",
       "14                53000       39000\n",
       "15                41000       34000\n",
       "16                39000       58000\n",
       "17                80000       73000\n",
       "18                87000       53000\n",
       "19                73000       66000\n",
       "20                65000       78000\n",
       "21                28000       41000\n",
       "22                62000       71000\n",
       "23                49000       38000\n",
       "24                84000       95000\n",
       "25                63000       81000\n",
       "26                77000       58000\n",
       "27                67000       75000\n",
       "28               101000       94000\n",
       "29                91000      100000\n",
       "30                50000       68000"
      ]
     },
     "execution_count": 1,
     "metadata": {},
     "output_type": "execute_result"
    }
   ],
   "source": [
    "#Added Table 1 above to titan_sample30.csv\n",
    "import numpy as np\n",
    "import pandas as pd\n",
    "from scipy import stats\n",
    "import statsmodels.stats.power as power\n",
    "import matplotlib.pyplot as plt\n",
    "plt.style.use('classic')\n",
    "\n",
    "df = pd.read_csv('titan_sample30.csv',index_col=0)\n",
    "df = df * 1000                                                            #As the data is in thousands\n",
    "df"
   ]
  },
  {
   "cell_type": "markdown",
   "metadata": {},
   "source": [
    "# 1. Find the mean of old scheme and new scheme column. (5 points)"
   ]
  },
  {
   "cell_type": "code",
   "execution_count": 2,
   "metadata": {},
   "outputs": [
    {
     "name": "stdout",
     "output_type": "stream",
     "text": [
      "Mean of old scheme:  68033.33333333333\n"
     ]
    }
   ],
   "source": [
    "print('Mean of old scheme: ', df.old_scheme.mean())"
   ]
  },
  {
   "cell_type": "code",
   "execution_count": 3,
   "metadata": {},
   "outputs": [
    {
     "name": "stdout",
     "output_type": "stream",
     "text": [
      "Mean of new scheme:  72033.33333333333\n"
     ]
    }
   ],
   "source": [
    "print('Mean of new scheme: ', df.new_scheme.mean())"
   ]
  },
  {
   "cell_type": "code",
   "execution_count": 4,
   "metadata": {},
   "outputs": [
    {
     "data": {
      "text/html": [
       "<div>\n",
       "<style scoped>\n",
       "    .dataframe tbody tr th:only-of-type {\n",
       "        vertical-align: middle;\n",
       "    }\n",
       "\n",
       "    .dataframe tbody tr th {\n",
       "        vertical-align: top;\n",
       "    }\n",
       "\n",
       "    .dataframe thead th {\n",
       "        text-align: right;\n",
       "    }\n",
       "</style>\n",
       "<table border=\"1\" class=\"dataframe\">\n",
       "  <thead>\n",
       "    <tr style=\"text-align: right;\">\n",
       "      <th></th>\n",
       "      <th>old_scheme</th>\n",
       "      <th>new_scheme</th>\n",
       "    </tr>\n",
       "  </thead>\n",
       "  <tbody>\n",
       "    <tr>\n",
       "      <th>count</th>\n",
       "      <td>30.000000</td>\n",
       "      <td>30.000000</td>\n",
       "    </tr>\n",
       "    <tr>\n",
       "      <th>mean</th>\n",
       "      <td>68033.333333</td>\n",
       "      <td>72033.333333</td>\n",
       "    </tr>\n",
       "    <tr>\n",
       "      <th>std</th>\n",
       "      <td>20455.980212</td>\n",
       "      <td>24062.394947</td>\n",
       "    </tr>\n",
       "    <tr>\n",
       "      <th>min</th>\n",
       "      <td>28000.000000</td>\n",
       "      <td>32000.000000</td>\n",
       "    </tr>\n",
       "    <tr>\n",
       "      <th>25%</th>\n",
       "      <td>54000.000000</td>\n",
       "      <td>55000.000000</td>\n",
       "    </tr>\n",
       "    <tr>\n",
       "      <th>50%</th>\n",
       "      <td>67000.000000</td>\n",
       "      <td>74000.000000</td>\n",
       "    </tr>\n",
       "    <tr>\n",
       "      <th>75%</th>\n",
       "      <td>81500.000000</td>\n",
       "      <td>85750.000000</td>\n",
       "    </tr>\n",
       "    <tr>\n",
       "      <th>max</th>\n",
       "      <td>110000.000000</td>\n",
       "      <td>122000.000000</td>\n",
       "    </tr>\n",
       "  </tbody>\n",
       "</table>\n",
       "</div>"
      ],
      "text/plain": [
       "          old_scheme     new_scheme\n",
       "count      30.000000      30.000000\n",
       "mean    68033.333333   72033.333333\n",
       "std     20455.980212   24062.394947\n",
       "min     28000.000000   32000.000000\n",
       "25%     54000.000000   55000.000000\n",
       "50%     67000.000000   74000.000000\n",
       "75%     81500.000000   85750.000000\n",
       "max    110000.000000  122000.000000"
      ]
     },
     "execution_count": 4,
     "metadata": {},
     "output_type": "execute_result"
    }
   ],
   "source": [
    "df.describe()"
   ]
  },
  {
   "cell_type": "code",
   "execution_count": 5,
   "metadata": {},
   "outputs": [
    {
     "data": {
      "text/plain": [
       "<matplotlib.axes._subplots.AxesSubplot at 0x1a1389e630>"
      ]
     },
     "execution_count": 5,
     "metadata": {},
     "output_type": "execute_result"
    },
    {
     "data": {
      "image/png": "[encoded data removed]",
      "text/plain": [
       "<Figure size 432x288 with 1 Axes>"
      ]
     },
     "metadata": {},
     "output_type": "display_data"
    }
   ],
   "source": [
    "df[['old_scheme', 'new_scheme']].plot(kind='box') # seems like there are no significant outliers"
   ]
  },
  {
   "cell_type": "code",
   "execution_count": 6,
   "metadata": {},
   "outputs": [
    {
     "data": {
      "text/plain": [
       "<matplotlib.axes._subplots.AxesSubplot at 0x1a173a65c0>"
      ]
     },
     "execution_count": 6,
     "metadata": {},
     "output_type": "execute_result"
    },
    {
     "data": {
      "image/png": "[encoded data removed]",
      "text/plain": [
       "<Figure size 432x288 with 1 Axes>"
      ]
     },
     "metadata": {},
     "output_type": "display_data"
    }
   ],
   "source": [
    "(df['old_scheme']).plot(kind='hist', title= 'Scheme Difference Histogram') "
   ]
  },
  {
   "cell_type": "code",
   "execution_count": 7,
   "metadata": {},
   "outputs": [
    {
     "data": {
      "text/plain": [
       "<matplotlib.axes._subplots.AxesSubplot at 0x1a17496550>"
      ]
     },
     "execution_count": 7,
     "metadata": {},
     "output_type": "execute_result"
    },
    {
     "data": {
      "image/png": "[encoded data removed]",
      "text/plain": [
       "<Figure size 432x288 with 1 Axes>"
      ]
     },
     "metadata": {},
     "output_type": "display_data"
    }
   ],
   "source": [
    "(df['new_scheme']).plot(kind='hist', title= 'Scheme Difference Histogram') "
   ]
  },
  {
   "cell_type": "markdown",
   "metadata": {},
   "source": [
    "# 2. Use the five percent significance test over the data to determine the p value to check new scheme has significantly raised outputs? (10 points)"
   ]
  },
  {
   "cell_type": "code",
   "execution_count": 8,
   "metadata": {},
   "outputs": [
    {
     "name": "stdout",
     "output_type": "stream",
     "text": [
      "p_value:  0.13057553961337662\n"
     ]
    }
   ],
   "source": [
    "# Since the sample size is not greater than 30, we will assume \n",
    "# a t-distribution and calculate the p value using the t-test\n",
    "# also the example is a paired t-test analysis\n",
    "\n",
    "t_stat, p_value = stats.ttest_rel(df[['old_scheme']],df[['new_scheme']])\n",
    "print('p_value: ', p_value[0])"
   ]
  },
  {
   "cell_type": "code",
   "execution_count": 9,
   "metadata": {},
   "outputs": [
    {
     "data": {
      "text/plain": [
       "array([-1.55591438])"
      ]
     },
     "execution_count": 9,
     "metadata": {},
     "output_type": "execute_result"
    }
   ],
   "source": [
    "t_stat"
   ]
  },
  {
   "cell_type": "raw",
   "metadata": {},
   "source": [
    "As p-value is greater than 5% (13.0576%), the new scheme has NOT significantly raised outputs"
   ]
  },
  {
   "cell_type": "markdown",
   "metadata": {},
   "source": [
    "# 3. What conclusion does the test (p-value) lead to? (2.5 points)"
   ]
  },
  {
   "cell_type": "raw",
   "metadata": {},
   "source": [
    "As p-value is greater than 5% (13.0576%) we will ACCEPT the \n",
    "null hypothesis that \"There is no significant difference between data sets\"\n",
    "and REJECT the Alternate Hypothesis that \"There is a significant difference\""
   ]
  },
  {
   "cell_type": "markdown",
   "metadata": {},
   "source": [
    "# 4. Suppose it has been calculated that in order for Titan to break even, the average output must increase by £5000 in the scheme compared to the old scheme. If this figure is alternative hypothesis, what is:"
   ]
  },
  {
   "cell_type": "markdown",
   "metadata": {},
   "source": [
    "# &nbsp; &nbsp; &nbsp; &nbsp; a) The probability of a type 1 error? (2.5 points)"
   ]
  },
  {
   "cell_type": "raw",
   "metadata": {},
   "source": [
    "alpha we set to 0.05, for confidence interval of 95%. Thus\n",
    "\n",
    "Probabilty of type 1 error: 0.05"
   ]
  },
  {
   "cell_type": "markdown",
   "metadata": {},
   "source": [
    " # &nbsp; &nbsp; &nbsp; &nbsp; b) What is the p- value of the hypothesis test if we test for a difference of $5000? (10 points)"
   ]
  },
  {
   "cell_type": "code",
   "execution_count": 10,
   "metadata": {},
   "outputs": [
    {
     "data": {
      "text/html": [
       "<div>\n",
       "<style scoped>\n",
       "    .dataframe tbody tr th:only-of-type {\n",
       "        vertical-align: middle;\n",
       "    }\n",
       "\n",
       "    .dataframe tbody tr th {\n",
       "        vertical-align: top;\n",
       "    }\n",
       "\n",
       "    .dataframe thead th {\n",
       "        text-align: right;\n",
       "    }\n",
       "</style>\n",
       "<table border=\"1\" class=\"dataframe\">\n",
       "  <thead>\n",
       "    <tr style=\"text-align: right;\">\n",
       "      <th></th>\n",
       "      <th>old_scheme</th>\n",
       "      <th>new_scheme</th>\n",
       "      <th>diff_scheme</th>\n",
       "    </tr>\n",
       "  </thead>\n",
       "  <tbody>\n",
       "    <tr>\n",
       "      <th>count</th>\n",
       "      <td>30.000000</td>\n",
       "      <td>30.000000</td>\n",
       "      <td>30.000000</td>\n",
       "    </tr>\n",
       "    <tr>\n",
       "      <th>mean</th>\n",
       "      <td>68033.333333</td>\n",
       "      <td>72033.333333</td>\n",
       "      <td>4000.000000</td>\n",
       "    </tr>\n",
       "    <tr>\n",
       "      <th>std</th>\n",
       "      <td>20455.980212</td>\n",
       "      <td>24062.394947</td>\n",
       "      <td>14081.046199</td>\n",
       "    </tr>\n",
       "    <tr>\n",
       "      <th>min</th>\n",
       "      <td>28000.000000</td>\n",
       "      <td>32000.000000</td>\n",
       "      <td>-34000.000000</td>\n",
       "    </tr>\n",
       "    <tr>\n",
       "      <th>25%</th>\n",
       "      <td>54000.000000</td>\n",
       "      <td>55000.000000</td>\n",
       "      <td>-6750.000000</td>\n",
       "    </tr>\n",
       "    <tr>\n",
       "      <th>50%</th>\n",
       "      <td>67000.000000</td>\n",
       "      <td>74000.000000</td>\n",
       "      <td>7500.000000</td>\n",
       "    </tr>\n",
       "    <tr>\n",
       "      <th>75%</th>\n",
       "      <td>81500.000000</td>\n",
       "      <td>85750.000000</td>\n",
       "      <td>16000.000000</td>\n",
       "    </tr>\n",
       "    <tr>\n",
       "      <th>max</th>\n",
       "      <td>110000.000000</td>\n",
       "      <td>122000.000000</td>\n",
       "      <td>25000.000000</td>\n",
       "    </tr>\n",
       "  </tbody>\n",
       "</table>\n",
       "</div>"
      ],
      "text/plain": [
       "          old_scheme     new_scheme   diff_scheme\n",
       "count      30.000000      30.000000     30.000000\n",
       "mean    68033.333333   72033.333333   4000.000000\n",
       "std     20455.980212   24062.394947  14081.046199\n",
       "min     28000.000000   32000.000000 -34000.000000\n",
       "25%     54000.000000   55000.000000  -6750.000000\n",
       "50%     67000.000000   74000.000000   7500.000000\n",
       "75%     81500.000000   85750.000000  16000.000000\n",
       "max    110000.000000  122000.000000  25000.000000"
      ]
     },
     "execution_count": 10,
     "metadata": {},
     "output_type": "execute_result"
    }
   ],
   "source": [
    "df['diff_scheme'] = df.new_scheme - df.old_scheme\n",
    "df.describe()"
   ]
  },
  {
   "cell_type": "code",
   "execution_count": 11,
   "metadata": {},
   "outputs": [
    {
     "data": {
      "text/plain": [
       "<matplotlib.axes._subplots.AxesSubplot at 0x1a1757a860>"
      ]
     },
     "execution_count": 11,
     "metadata": {},
     "output_type": "execute_result"
    },
    {
     "data": {
      "image/png": "[encoded data removed]",
      "text/plain": [
       "<Figure size 432x288 with 1 Axes>"
      ]
     },
     "metadata": {},
     "output_type": "display_data"
    }
   ],
   "source": [
    "(df.diff_scheme).plot(kind='hist', title= 'Scheme Difference Histogram') "
   ]
  },
  {
   "cell_type": "code",
   "execution_count": 12,
   "metadata": {},
   "outputs": [
    {
     "name": "stdout",
     "output_type": "stream",
     "text": [
      "p-value of the hypothesis test: 0.3500667456306643\n"
     ]
    }
   ],
   "source": [
    "# Method 1\n",
    "t_stat, p_value = stats.ttest_1samp(df.diff_scheme,popmean=(5000))\n",
    "print('p-value of the hypothesis test:',p_value/2) #As ttest_ 1samp returns two-tailed p-value"
   ]
  },
  {
   "cell_type": "code",
   "execution_count": 22,
   "metadata": {},
   "outputs": [
    {
     "data": {
      "text/plain": [
       "0.7499863453327638"
      ]
     },
     "execution_count": 22,
     "metadata": {},
     "output_type": "execute_result"
    }
   ],
   "source": [
    "stats.t.cdf(0.6830,df=dof)"
   ]
  },
  {
   "cell_type": "code",
   "execution_count": 13,
   "metadata": {},
   "outputs": [
    {
     "name": "stdout",
     "output_type": "stream",
     "text": [
      "p-value of the hypothesis test: 0.3500667456306643\n"
     ]
    }
   ],
   "source": [
    "# Method 2 for confirmation\n",
    "N = 30\n",
    "dof = N - 1\n",
    "sigmaByRootN = df.diff_scheme.std()/np.sqrt(N)\n",
    "t_stat2 = (5000 - df.diff_scheme.mean())/sigmaByRootN\n",
    "p_value = 1 - stats.t.cdf(t_stat2,df=dof)\n",
    "print('p-value of the hypothesis test:',p_value) "
   ]
  },
  {
   "cell_type": "markdown",
   "metadata": {},
   "source": [
    "# &nbsp; &nbsp; &nbsp; &nbsp; c) Power of the test (5 points)"
   ]
  },
  {
   "cell_type": "code",
   "execution_count": 14,
   "metadata": {},
   "outputs": [
    {
     "name": "stdout",
     "output_type": "stream",
     "text": [
      "Power of the hypothesis test is: 0.6003938011653175\n"
     ]
    }
   ],
   "source": [
    "# Method 1\n",
    "import statsmodels.stats.power as power\n",
    "eff= (5000)/df.diff_scheme.std()\n",
    "test_power = power.TTestPower().power(effect_size=eff, nobs=30,alpha=0.05, alternative='larger')\n",
    "print('Power of the hypothesis test is:',test_power) "
   ]
  },
  {
   "cell_type": "code",
   "execution_count": 15,
   "metadata": {},
   "outputs": [],
   "source": [
    "# Method 2 for confirmation\n",
    "N = 30\n",
    "dof = N - 1\n",
    "alpha = 0.05\n",
    "sigma = df.diff_scheme.std()\n",
    "sigmaByRootN = df.diff_scheme.std()/np.sqrt(N)\n",
    "null_mean = 0\n",
    "alt_mean = 5000"
   ]
  },
  {
   "cell_type": "code",
   "execution_count": 16,
   "metadata": {},
   "outputs": [
    {
     "data": {
      "text/plain": [
       "1.6991270265334972"
      ]
     },
     "execution_count": 16,
     "metadata": {},
     "output_type": "execute_result"
    }
   ],
   "source": [
    "# For alpha  = 0.05, the t_critical is \n",
    "t_critical = stats.t.ppf((1-alpha),df=dof)\n",
    "t_critical"
   ]
  },
  {
   "cell_type": "code",
   "execution_count": 17,
   "metadata": {},
   "outputs": [
    {
     "data": {
      "text/plain": [
       "4368.176156228719"
      ]
     },
     "execution_count": 17,
     "metadata": {},
     "output_type": "execute_result"
    }
   ],
   "source": [
    "Xc = null_mean + (t_critical) * (sigmaByRootN)\n",
    "Xc"
   ]
  },
  {
   "cell_type": "code",
   "execution_count": 18,
   "metadata": {},
   "outputs": [
    {
     "data": {
      "text/plain": [
       "[<matplotlib.lines.Line2D at 0x1a1770add8>]"
      ]
     },
     "execution_count": 18,
     "metadata": {},
     "output_type": "execute_result"
    },
    {
     "data": {
      "image/png": "[encoded data removed]",
      "text/plain": [
       "<Figure size 1008x720 with 1 Axes>"
      ]
     },
     "metadata": {},
     "output_type": "display_data"
    }
   ],
   "source": [
    "# Assuming t distribution\n",
    "\n",
    "plt.figure(figsize=(14,10))\n",
    "\n",
    "plt.fill_between(x=(np.arange(null_mean - 4 * sigmaByRootN,null_mean + 4 * sigmaByRootN,100)), \n",
    "                 y1= stats.t.pdf(np.arange(null_mean - 4 * sigmaByRootN,null_mean + 4 * sigmaByRootN,100),df=dof,loc=null_mean,scale=sigmaByRootN) ,\n",
    "                 facecolor='white',\n",
    "                 alpha=0.35)\n",
    "\n",
    "plt.fill_between(x=(np.arange(Xc,null_mean + 4 * sigmaByRootN,100)), \n",
    "                 y1= stats.t.pdf(np.arange(Xc,null_mean + 4 * sigmaByRootN,100),df=dof,loc=null_mean,scale=sigmaByRootN) ,\n",
    "                 facecolor='red',\n",
    "                 alpha=0.35)\n",
    "\n",
    "plt.fill_between(x=(np.arange(alt_mean - 4 * sigmaByRootN,alt_mean + 4 * sigmaByRootN,100)), \n",
    "                 y1= stats.t.pdf(np.arange(alt_mean - 4 * sigmaByRootN,alt_mean + 4 * sigmaByRootN,100),df=dof,loc=alt_mean,scale=sigmaByRootN) ,\n",
    "                 facecolor='white',\n",
    "                 alpha=0.35)\n",
    "\n",
    "plt.fill_between(x=(np.arange(alt_mean - 4 * sigmaByRootN,Xc,100)), \n",
    "                 y1= stats.t.pdf(np.arange(alt_mean - 4 * sigmaByRootN,Xc,100),df=dof,loc=alt_mean,scale=sigmaByRootN) ,\n",
    "                 facecolor='blue',\n",
    "                 alpha=0.35)\n",
    "\n",
    "plt.text(x=-3200, y=0.00006, s= \"Null Hypothesis\")\n",
    "plt.text(x=5500, y=0.00006, s= \"Alternative\")\n",
    "plt.text(x=6000, y=0.00001, s= \"Type 1 Error\")\n",
    "plt.text(x=500, y=0.00001, s= \"Type 2 Error\")\n",
    "plt.text(x=-1200, y=0.00011, s= \"μ0 = \"+str(null_mean))\n",
    "plt.text(x=3500, y=0.00011, s= \"μ1 = \"+str(alt_mean))\n",
    "plt.text(x=Xc, y=0.00010, s= (\"Xc = \"+str(Xc)))\n",
    "plt.plot([null_mean,null_mean],[0,0.00015],'y|--')\n",
    "plt.plot([alt_mean,alt_mean],[0,0.00015],'b|--')\n",
    "plt.plot([Xc,Xc],[0,0.00015],'g|--')"
   ]
  },
  {
   "cell_type": "code",
   "execution_count": 19,
   "metadata": {},
   "outputs": [
    {
     "data": {
      "text/plain": [
       "0.40379725247943166"
      ]
     },
     "execution_count": 19,
     "metadata": {},
     "output_type": "execute_result"
    }
   ],
   "source": [
    "t_stat_at_Xcritical = (Xc - alt_mean)/sigmaByRootN\n",
    "beta = stats.t.cdf((t_stat_at_Xcritical),dof)\n",
    "beta"
   ]
  },
  {
   "cell_type": "code",
   "execution_count": 20,
   "metadata": {},
   "outputs": [
    {
     "name": "stdout",
     "output_type": "stream",
     "text": [
      "Power of the hypothesis test is: 0.5962027475205683\n"
     ]
    }
   ],
   "source": [
    "test_power = 1 - beta\n",
    "print('Power of the hypothesis test is:',test_power) "
   ]
  },
  {
   "cell_type": "code",
   "execution_count": null,
   "metadata": {},
   "outputs": [],
   "source": []
  }
 ],
 "metadata": {
  "kernelspec": {
   "display_name": "Python 3",
   "language": "python",
   "name": "python3"
  },
  "language_info": {
   "codemirror_mode": {
    "name": "ipython",
    "version": 3
   },
   "file_extension": ".py",
   "mimetype": "text/x-python",
   "name": "python",
   "nbconvert_exporter": "python",
   "pygments_lexer": "ipython3",
   "version": "3.6.5"
  }
 },
 "nbformat": 4,
 "nbformat_minor": 2
}
